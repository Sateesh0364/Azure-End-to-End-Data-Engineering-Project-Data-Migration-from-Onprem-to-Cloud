{
 "cells": [
  {
   "cell_type": "markdown",
   "metadata": {},
   "source": [
    "In this note book we are going to do some data type change transformations for all the files in broze layer and then we move into silver layer\n",
    "\n",
    "in data -> for date columns we have values in datetime, so we have to convert whereever datetime format is there to date format\n",
    "\n",
    "for ex -> in sell date the value is like dd-mm-yyyy-hh-mm-ss this has to change into dd-mm-yy\n",
    "\n",
    "in this notebook we are going to perform this activity if sny coloumn contains name like date for example selldate, shipdate etc, that values we are converting from datetime to date"
   ]
  },
  {
   "cell_type": "markdown",
   "metadata": {},
   "source": [
    "Below i did for one value for understanding, then iam going to do all using for loop"
   ]
  },
  {
   "cell_type": "code",
   "execution_count": null,
   "metadata": {},
   "outputs": [],
   "source": [
    "dbutils.fs.ls('mnt/bronze/SalesLT/')"
   ]
  },
  {
   "cell_type": "code",
   "execution_count": null,
   "metadata": {},
   "outputs": [],
   "source": [
    "dbutils.fs.ls('mnt/silver/') "
   ]
  },
  {
   "cell_type": "code",
   "execution_count": null,
   "metadata": {},
   "outputs": [],
   "source": [
    "input_path = '/mnt/bronze/SalesLT/Address/Address.parquet' \n",
    "# here for understanding doing on one file next we can use for loop for all files"
   ]
  },
  {
   "cell_type": "code",
   "execution_count": null,
   "metadata": {},
   "outputs": [],
   "source": [
    "df = spark.read. format('parquet').load(input_path)"
   ]
  },
  {
   "cell_type": "code",
   "execution_count": null,
   "metadata": {},
   "outputs": [],
   "source": [
    "display(df)"
   ]
  },
  {
   "cell_type": "code",
   "execution_count": null,
   "metadata": {},
   "outputs": [],
   "source": [
    "from pyspark.sql. functions import from_utc_timestamp, date_format\n",
    "from pyspark.sql.types import TimestampType\n",
    "\n",
    "df = df.withColumn(\"ModifiedDate\", date_format(from_utc_timestamp(df[\"ModifiedDate\"].cast(TimestampType()),\n",
    "\"UTC\"), \"yyyy-MM-dd\"))"
   ]
  },
  {
   "cell_type": "markdown",
   "metadata": {},
   "source": [
    "Doing Transformation for all Tables"
   ]
  },
  {
   "cell_type": "code",
   "execution_count": null,
   "metadata": {},
   "outputs": [],
   "source": [
    "table_name = []\n",
    "\n",
    "for i in @dbutils.fs.ls('mnt/bronze/SalesLT/'):\n",
    "    table_name.append(i.name.split('/')[0])"
   ]
  },
  {
   "cell_type": "code",
   "execution_count": null,
   "metadata": {},
   "outputs": [],
   "source": [
    "from pyspark. sql. functions import from_utc_timestamp, date_format\n",
    "from pyspark.sql.types import TimestampType\n",
    "\n",
    "for i in table_name:\n",
    "    path = '/mnt/bronze/SalesLT/' + i + '/' + i + '.parquet'\n",
    "    df = spark.read. format('parquet').load(path)\n",
    "    column = df.columns\n",
    "\n",
    "for col in column:\n",
    "    if \"Date\" in col or \"date\" in col:\n",
    "        df = df.withColumn(col, date_format(from_utc_timestamp(df[col].cast(TimestampType()),\"UTC\"),\"yyyy-MM-dd\"))\n",
    "\n",
    "output_path ='/mnt/silver/SalesLT/' +i +'/'\n",
    "df.write.format('delta').mode(\"overwrite\").save(output_path)\n",
    "# after transforming dumping all files into silver layer\n"
   ]
  }
 ],
 "metadata": {
  "language_info": {
   "name": "python"
  }
 },
 "nbformat": 4,
 "nbformat_minor": 2
}

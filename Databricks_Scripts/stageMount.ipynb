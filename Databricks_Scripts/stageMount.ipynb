{
 "cells": [
  {
   "cell_type": "markdown",
   "metadata": {},
   "source": [
    "Creating a Mount for Each folder Bronze,Silver,Gold\n",
    "Mount here is used to access the folder in gen2 lake\n",
    "Below code is generic one, just we have to change container name,storage acc & Mount name\n",
    "---------\n",
    "configs ={\n",
    "\"fs.azure. account.auth. type\": \"CustomAccessToken\",\n",
    "\"fs.azure. account.custom. token. provider.class\": spark. conf.get(\"spark.databricks.passthrough.adls.gen2.\n",
    "tokenProviderClassName\")\n",
    "}\n",
    "# Optionally, you can add <directory-name> to the source URI of your mount point.\n",
    "dbutils. fs.mount(\n",
    "source = \"abfss://<container-name>@<storage-account-name>.dfs.core.windows.net/\",\n",
    "mount_point = \"/mnt/<mount-name>\",\n",
    "extra_configs = configs)"
   ]
  },
  {
   "cell_type": "code",
   "execution_count": null,
   "metadata": {},
   "outputs": [],
   "source": [
    "# for bronze mount\n",
    "\n",
    "configs ={\n",
    "\"fs.azure. account.auth. type\": \"CustomAccessToken\",\n",
    "\"fs.azure. account.custom. token. provider.class\": spark. conf.get(\"spark.databricks.passthrough.adls.gen2.\n",
    "tokenProviderClassName\")\n",
    "}\n",
    "# Optionally, you can add <directory-name> to the source URI of your mount point.\n",
    "dbutils. fs.mount(\n",
    "source = \"abfss://bronze@projectstorageaccount.dfs.core.windows.net/\",\n",
    "mount_point = \"/mnt/bronze\",\n",
    "extra_configs = configs)\n"
   ]
  },
  {
   "cell_type": "markdown",
   "metadata": {},
   "source": [
    "above we created a mount for bronze, so using that mount we can communicate with the path mentioned above\n",
    "\n",
    "suppouse if we use below code it will list all files under broze\n",
    "\n",
    "--> dbutils.fs.ls(\"/mnt/bronze\")"
   ]
  },
  {
   "cell_type": "code",
   "execution_count": null,
   "metadata": {},
   "outputs": [],
   "source": [
    "# for silver\n",
    "\n",
    "configs ={\n",
    "\"fs.azure. account.auth. type\": \"CustomAccessToken\",\n",
    "\"fs.azure. account.custom. token. provider.class\": spark. conf.get(\"spark.databricks.passthrough.adls.gen2.\n",
    "tokenProviderClassName\")\n",
    "}\n",
    "# Optionally, you can add <directory-name> to the source URI of your mount point.\n",
    "dbutils. fs.mount(\n",
    "source = \"abfss://silver@projectstorageaccount.dfs.core.windows.net/\",\n",
    "mount_point = \"/mnt/silver\",\n",
    "extra_configs = configs)"
   ]
  },
  {
   "cell_type": "code",
   "execution_count": null,
   "metadata": {},
   "outputs": [],
   "source": [
    "# for gold\n",
    "\n",
    "configs ={\n",
    "\"fs.azure. account.auth. type\": \"CustomAccessToken\",\n",
    "\"fs.azure. account.custom. token. provider.class\": spark. conf.get(\"spark.databricks.passthrough.adls.gen2.\n",
    "tokenProviderClassName\")\n",
    "}\n",
    "# Optionally, you can add <directory-name> to the source URI of your mount point.\n",
    "dbutils. fs.mount(\n",
    "source = \"abfss://gold@projectstorageaccount.dfs.core.windows.net/\",\n",
    "mount_point = \"/mnt/gold\",\n",
    "extra_configs = configs)"
   ]
  }
 ],
 "metadata": {
  "language_info": {
   "name": "python"
  }
 },
 "nbformat": 4,
 "nbformat_minor": 2
}
